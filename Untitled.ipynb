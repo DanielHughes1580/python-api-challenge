{
 "cells": [
  {
   "cell_type": "code",
   "execution_count": 32,
   "id": "35a5e469",
   "metadata": {},
   "outputs": [
    {
     "name": "stdout",
     "output_type": "stream",
     "text": [
      "0EmeFodog0BfCgMzAIvKQp\n",
      "track    : Immigrant Song - Remaster\n",
      "audio    : https://p.scdn.co/mp3-preview/f50f3416ea0807503e172ba87a92d8047d4f95da?cid=144cb12290574986ae5026cca589a12e\n",
      "cover art: https://i.scdn.co/image/ab67616d0000b27390a50cfe99a4c19ff3cbfbdb\n",
      "\n",
      "track    : Stairway to Heaven - Remaster\n",
      "audio    : https://p.scdn.co/mp3-preview/337c8d45ac66899bc2db9ef3ed9438fe1d035ab1?cid=144cb12290574986ae5026cca589a12e\n",
      "cover art: https://i.scdn.co/image/ab67616d0000b273c8a11e48c91a982d086afc69\n",
      "\n",
      "track    : Whole Lotta Love - 1990 Remaster\n",
      "audio    : https://p.scdn.co/mp3-preview/89f3dc45265602fa874c23d638538af0f2c6b56a?cid=144cb12290574986ae5026cca589a12e\n",
      "cover art: https://i.scdn.co/image/ab67616d0000b273fc4f17340773c6c3579fea0d\n",
      "\n",
      "track    : Black Dog - Remaster\n",
      "audio    : https://p.scdn.co/mp3-preview/78dd352fdbe8d2a867b72c5a71ac44ef6a462ab4?cid=144cb12290574986ae5026cca589a12e\n",
      "cover art: https://i.scdn.co/image/ab67616d0000b273c8a11e48c91a982d086afc69\n",
      "\n",
      "track    : Rock and Roll - Remaster\n",
      "audio    : https://p.scdn.co/mp3-preview/9464a064068943a58f673035d9ebe58e98f46bea?cid=144cb12290574986ae5026cca589a12e\n",
      "cover art: https://i.scdn.co/image/ab67616d0000b273c8a11e48c91a982d086afc69\n",
      "\n",
      "track    : Good Times Bad Times - 1993 Remaster\n",
      "audio    : https://p.scdn.co/mp3-preview/499f6278a140080d3218c448448d0eb149eb65b7?cid=144cb12290574986ae5026cca589a12e\n",
      "cover art: https://i.scdn.co/image/ab67616d0000b2736f2f499c1df1f210c9b34b32\n",
      "\n",
      "track    : Ramble On - 1990 Remaster\n",
      "audio    : https://p.scdn.co/mp3-preview/e734d4e4f125ff5fbe7d69faa7d505dc744fb7bb?cid=144cb12290574986ae5026cca589a12e\n",
      "cover art: https://i.scdn.co/image/ab67616d0000b273fc4f17340773c6c3579fea0d\n",
      "\n",
      "track    : Kashmir - Remaster\n",
      "audio    : https://p.scdn.co/mp3-preview/4d9bde799eec8913e53c184c45b9fd575690b917?cid=144cb12290574986ae5026cca589a12e\n",
      "cover art: https://i.scdn.co/image/ab67616d0000b273765b0617b572bdd1dbdc7d8e\n",
      "\n",
      "track    : Going to California - Remaster\n",
      "audio    : https://p.scdn.co/mp3-preview/8c2452c1db9c3a7aad2b826cb52303a689814f6e?cid=144cb12290574986ae5026cca589a12e\n",
      "cover art: https://i.scdn.co/image/ab67616d0000b273c8a11e48c91a982d086afc69\n",
      "\n",
      "track    : Over the Hills and Far Away - Remaster\n",
      "audio    : https://p.scdn.co/mp3-preview/a828935e429be801aa374eeeb8b2cb0d91755d57?cid=144cb12290574986ae5026cca589a12e\n",
      "cover art: https://i.scdn.co/image/ab67616d0000b2731aa47e71c4edfeaddb65cd54\n",
      "\n"
     ]
    }
   ],
   "source": [
    "import requests\n",
    "import spotipy\n",
    "from spotipy.oauth2 import SpotifyClientCredentials\n",
    "import pprint\n",
    "\n",
    "# Set your Spotify API credentials\n",
    "client_id = '144cb12290574986ae5026cca589a12e'\n",
    "client_secret = 'f03c81d138e140c8924a563786023b68'\n",
    "\n",
    "# Initialize the Spotify client with client credentials flow\n",
    "client_credentials_manager = SpotifyClientCredentials(client_id=client_id, client_secret=client_secret)\n",
    "sp = spotipy.Spotify(client_credentials_manager=client_credentials_manager)\n",
    "\n",
    "# Search for Shakira's artist ID\n",
    "result = sp.search(q='Shakira', type='artist')\n",
    "shakira_id = result['artists']['items'][0]['id']\n",
    "print(shakira_id)\n",
    "lz_uri = 'spotify:artist:36QJpDe2go2KgaRleHCDTp'\n",
    "\n",
    "results = sp.artist_top_tracks(lz_uri)\n",
    "\n",
    "for track in results['tracks'][:10]:\n",
    "    print('track    : ' + track['name'])\n",
    "    print('audio    : ' + track['preview_url'])\n",
    "    print('cover art: ' + track['album']['images'][0]['url'])\n",
    "    print()\n",
    "   \n"
   ]
  },
  {
   "cell_type": "code",
   "execution_count": 62,
   "id": "c56ca407",
   "metadata": {},
   "outputs": [
    {
     "name": "stdout",
     "output_type": "stream",
     "text": [
      "Escape (feat. Hayla)\n",
      "I Remember - John Summit Remix\n",
      "Ghosts 'n' Stuff - Extended Mix\n",
      "Sacrifice\n",
      "The Veldt Cinema - BYNX Edit\n",
      "The Veldt - Radio Edit\n",
      "Escape - John Summit Remix\n",
      "Alive (feat. The Moth & The Flame)\n",
      "Ghosts 'n' Stuff (feat. Rob Swire) [Jauz Remix]\n",
      "Infraliminal\n"
     ]
    }
   ],
   "source": [
    "result = sp.search(q='deadmau5', type='artist')\n",
    "madonna_id = result['artists']['items'][0]['id']\n",
    "\n",
    "madonna_top = sp.artist_top_tracks(madonna_id)\n",
    "\n",
    "type(madonna_top[\"tracks\"][0])\n",
    "for track in madonna_top[\"tracks\"]:\n",
    "    print(track[\"name\"])\n",
    "#pp = pprint.PrettyPrinter(indent=3)\n",
    "#pp.pprint(shakira_top)"
   ]
  },
  {
   "cell_type": "code",
   "execution_count": 60,
   "id": "5e9a2e1a",
   "metadata": {},
   "outputs": [
    {
     "name": "stdout",
     "output_type": "stream",
     "text": [
      "Escape (feat. Hayla)\n",
      "I Remember - John Summit Remix\n",
      "Ghosts 'n' Stuff\n",
      "Sacrifice\n",
      "The Veldt Cinema - BYNX Edit\n",
      "The Veldt - Radio Edit\n",
      "Escape - John Summit Remix\n",
      "Alive (feat. The Moth & The Flame)\n",
      "Ghosts 'n' Stuff - Jauz Remix\n",
      "Infraliminal\n"
     ]
    }
   ],
   "source": [
    "result = sp.search(q='deadmau5', type='artist')\n",
    "madonna_id = result['artists']['items'][0]['id']\n",
    "countrys =  ['AD', 'AR', 'AU', 'AT', 'BE', 'BO', 'BR', 'BG', 'CA', 'CL', 'CO', 'CR', 'CY', 'CZ', \n",
    "             'DK', 'DO', 'EC', 'SV', 'EE', 'FI', 'FR', 'DE', 'GR', 'GT', 'HN', 'HK', 'HU', 'IS', \n",
    "             'ID', 'IE', 'IT', 'JP', 'LV', 'LI', 'LT', 'LU', 'MY', 'MT', 'MX', 'MC', 'NL', 'NZ', \n",
    "             'NI', 'NO', 'PA', 'PY', 'PE', 'PH', 'PL', 'PT', 'SG', 'ES', 'SK', 'SE', 'CH', 'TW', \n",
    "             'TR', 'GB', 'US', 'UY']\n",
    "madonna_top_us = sp.artist_top_tracks(madonna_id, country='ES')\n",
    "\n",
    "type(madonna_top_us[\"tracks\"][0])\n",
    "for track in madonna_top_us[\"tracks\"]:\n",
    "    print(track[\"name\"])"
   ]
  },
  {
   "cell_type": "code",
   "execution_count": null,
   "id": "f2773da5",
   "metadata": {},
   "outputs": [],
   "source": []
  }
 ],
 "metadata": {
  "kernelspec": {
   "display_name": "Python 3 (ipykernel)",
   "language": "python",
   "name": "python3"
  },
  "language_info": {
   "codemirror_mode": {
    "name": "ipython",
    "version": 3
   },
   "file_extension": ".py",
   "mimetype": "text/x-python",
   "name": "python",
   "nbconvert_exporter": "python",
   "pygments_lexer": "ipython3",
   "version": "3.10.13"
  }
 },
 "nbformat": 4,
 "nbformat_minor": 5
}
